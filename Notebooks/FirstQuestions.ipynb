{
 "cells": [
  {
   "cell_type": "markdown",
   "metadata": {},
   "source": [
    "# Addressing early questions\n",
    "\n",
    ">  the ones I noticed are: DAY2 I am 95% sure did not collect resting BOLD, and I think the same is probably true for FNDM1 (which was originally called just FNDM)."
   ]
  },
  {
   "cell_type": "code",
   "execution_count": 1,
   "metadata": {},
   "outputs": [],
   "source": [
    "import flywheel"
   ]
  },
  {
   "cell_type": "code",
   "execution_count": 2,
   "metadata": {},
   "outputs": [],
   "source": [
    "client=flywheel.Client()"
   ]
  },
  {
   "cell_type": "code",
   "execution_count": 3,
   "metadata": {},
   "outputs": [
    {
     "name": "stderr",
     "output_type": "stream",
     "text": [
      "/cbica/projects/wolf_satterthwaite_reward/miniconda3/envs/reward/lib/python3.8/site-packages/flywheel/flywheel.py:6300: UserWarning: Client version 15.8.0 does not match server version 14.6.4. Please update your client version!\n",
      "  warnings.warn('Client version {} does not match server version {}. Please update your client version!'.format(SDK_VERSION, release_version))\n",
      "WARNING:Flywheel:Use \"pip install flywheel-sdk~=14.6.5\" to install a compatible version for this server\n"
     ]
    }
   ],
   "source": [
    "proj = client.lookup('bbl/Reward2018')"
   ]
  },
  {
   "cell_type": "code",
   "execution_count": 4,
   "metadata": {},
   "outputs": [
    {
     "data": {
      "text/plain": [
       "'5c1a61e69011bd0011368884'"
      ]
     },
     "execution_count": 4,
     "metadata": {},
     "output_type": "execute_result"
    }
   ],
   "source": [
    "proj.id"
   ]
  },
  {
   "cell_type": "markdown",
   "metadata": {},
   "source": [
    "Did DAY2 collect resting state bold data?"
   ]
  },
  {
   "cell_type": "code",
   "execution_count": 5,
   "metadata": {},
   "outputs": [],
   "source": [
    "sessions = client.get_project_sessions(proj.id)"
   ]
  },
  {
   "cell_type": "code",
   "execution_count": 6,
   "metadata": {},
   "outputs": [
    {
     "data": {
      "text/plain": [
       "509"
      ]
     },
     "execution_count": 6,
     "metadata": {},
     "output_type": "execute_result"
    }
   ],
   "source": [
    "len(sessions)"
   ]
  },
  {
   "cell_type": "code",
   "execution_count": 7,
   "metadata": {},
   "outputs": [],
   "source": [
    "day2 = [x for x in sessions if 'day2' in x.label.lower()]"
   ]
  },
  {
   "cell_type": "code",
   "execution_count": 8,
   "metadata": {},
   "outputs": [
    {
     "name": "stdout",
     "output_type": "stream",
     "text": [
      "['bbl1_faceB0_178', 'localizer_32channel', 'MPRAGE_TI1100_ipat2', 'bbl1_cardA0_178', 'MoCoSeries', 'bbl1_faceA0_178', 'epi_singlerep', 'ep2d_se_pcasl_PHC_1200ms', 'bbl1_cardB0_178', 'ep2d_bold_MGH', 'B0map_onesizefitsall_v2', 'B0map_onesizefitsall_v2']\n",
      "['bbl1_faceB0_178', 'MPRAGE_TI1100_ipat2', 'B0map_onesizefitsall_v2', 'MoCoSeries', 'bbl1_faceA0_178', 'bbl1_cardB0_178', 'bbl1_cardA0_178', 'ep2d_se_pcasl_PHC_1200ms', 'epi_singlerep', 'ep2d_bold_MGH', 'localizer_32channel', 'B0map_onesizefitsall_v2']\n",
      "['ep2d_bold_MGH', 'B0map_onesizefitsall_v2', 'bbl1_faceA0_178', 'MPRAGE_TI1100_ipat2', 'bbl1_faceB0_178', 'epi_singlerep', 'bbl1_cardB0_178', 'MoCoSeries', 'bbl1_cardA0_178', 'B0map_onesizefitsall_v2', 'ep2d_se_pcasl_PHC_1200ms', 'localizer_32channel']\n",
      "['bbl1_faceB0_178', 'B0map_onesizefitsall_v2', 'bbl1_cardA0_178', 'B0map_onesizefitsall_v2', 'MoCoSeries', 'epi_singlerep', 'bbl1_cardB0_178', 'ep2d_bold_MGH', 'bbl1_faceA0_178', 'localizer_32channel', 'ep2d_se_pcasl_PHC_1200ms', 'MPRAGE_TI1100_ipat2']\n",
      "['bbl1_faceB0_178', 'ep2d_se_pcasl_PHC_1200ms', 'MoCoSeries', 'ep2d_bold_MGH', 'B0map_onesizefitsall_v2', 'epi_singlerep', 'MPRAGE_TI1100_ipat2', 'localizer_32channel', 'bbl1_faceA0_178', 'bbl1_cardA0_178', 'bbl1_cardB0_178', 'B0map_onesizefitsall_v2']\n",
      "['bbl1_cardB0_178', 'ep2d_se_pcasl_PHC_1200ms', 'bbl1_faceB0_178', 'epi_singlerep', 'ep2d_bold_MGH', 'B0map_onesizefitsall_v2', 'B0map_onesizefitsall_v2', 'bbl1_faceA0_178', 'localizer_32channel', 'bbl1_cardA0_178', 'MPRAGE_TI1100_ipat2', 'MoCoSeries']\n",
      "['localizer_32channel', 'ep2d_bold_MGH', 'bbl1_cardA0_178', 'B0map_onesizefitsall_v2', 'epi_singlerep', 'MPRAGE_TI1100_ipat2', 'B0map_onesizefitsall_v2', 'ep2d_se_pcasl_PHC_1200ms', 'MoCoSeries', 'bbl1_faceA0_178', 'bbl1_faceB0_178', 'bbl1_cardB0_178']\n",
      "['epi_singlerep', 'bbl1_faceA0_178', 'B0map_onesizefitsall_v2', 'bbl1_cardA0_178', 'MPRAGE_TI1100_ipat2', 'B0map_onesizefitsall_v2', 'bbl1_faceB0_178', 'ep2d_bold_MGH', 'localizer_32channel', 'bbl1_cardB0_178', 'MoCoSeries', 'ep2d_se_pcasl_PHC_1200ms']\n",
      "['B0map_onesizefitsall_v2', 'bbl1_cardB0_178', 'B0map_onesizefitsall_v2', 'bbl1_faceB0_178', 'MoCoSeries', 'epi_singlerep', 'localizer_32channel', 'bbl1_faceA0_178', 'ep2d_bold_MGH', 'ep2d_se_pcasl_PHC_1200ms', 'MPRAGE_TI1100_ipat2', 'bbl1_cardA0_178']\n",
      "['B0map_onesizefitsall_v2', 'bbl1_cardB0_178', 'localizer_32channel', 'MPRAGE_TI1100_ipat2', 'MoCoSeries', 'bbl1_faceB0_178', 'MPRAGE_TI1100_ipat2', 'localizer_32channel', 'epi_singlerep', 'bbl1_faceB0_178', 'epi_singlerep', 'ep2d_se_pcasl_PHC_1200ms', 'B0map_onesizefitsall_v2']\n"
     ]
    }
   ],
   "source": [
    "acquisitions = []\n",
    "\n",
    "for d in day2[:10]:\n",
    "    \n",
    "    acqs = d.acquisitions()\n",
    "    print([x.label for x in acqs])"
   ]
  },
  {
   "cell_type": "code",
   "execution_count": 9,
   "metadata": {},
   "outputs": [],
   "source": [
    "def get_nested(dct, *keys):\n",
    "    for key in keys:\n",
    "        try:\n",
    "            dct = dct[key]\n",
    "        except (KeyError, TypeError):\n",
    "            return None\n",
    "    return dct\n",
    "\n",
    "def process_acq(acq):\n",
    "    \n",
    "    files = acq.files\n",
    "    \n",
    "    names = {}\n",
    "    \n",
    "    for f in files:\n",
    "        \n",
    "        if f.type != 'nifti':\n",
    "            \n",
    "            continue\n",
    "\n",
    "        bids_filename = get_nested(f, 'info', 'BIDS', 'Filename')\n",
    "\n",
    "        if bids_filename is None:\n",
    "            continue\n",
    "        \n",
    "        day_2_start = bids_filename.find('day2')\n",
    "        end_ses = bids_filename[day_2_start:].find(\"_\")\n",
    "        bids_filename = bids_filename[day_2_start+end_ses+1:].replace(\".nii.gz\", \"\")\n",
    "        \n",
    "        if bids_filename not in names.keys():\n",
    "            names[bids_filename] = 1\n",
    "        else:\n",
    "            names[bids_filename] += 1\n",
    "        \n",
    "    return names\n",
    "    \n",
    "    "
   ]
  },
  {
   "cell_type": "code",
   "execution_count": 10,
   "metadata": {},
   "outputs": [
    {
     "data": {
      "text/plain": [
       "{'phase2': 1, 'phase1': 1}"
      ]
     },
     "execution_count": 10,
     "metadata": {},
     "output_type": "execute_result"
    }
   ],
   "source": [
    "process_acq(acqs[0])"
   ]
  },
  {
   "cell_type": "code",
   "execution_count": 11,
   "metadata": {},
   "outputs": [],
   "source": [
    "acquisitions = {}\n",
    "\n",
    "for d in day2:\n",
    "    acqs = d.acquisitions()\n",
    "\n",
    "    for a in acqs:\n",
    "                \n",
    "        \n",
    "        if a.label not in acquisitions.keys():\n",
    "            \n",
    "            names = process_acq(a)\n",
    "            \n",
    "            acquisitions[a.label] = names\n",
    "            \n",
    "        else:\n",
    "            \n",
    "            names = process_acq(a)\n",
    "\n",
    "            for k, n in names.items():\n",
    "                \n",
    "                if k not in acquisitions[a.label].keys():\n",
    "                    \n",
    "                    acquisitions[a.label][k] = n \n",
    "                    \n",
    "                else:\n",
    "                    \n",
    "                    acquisitions[a.label][k] += n \n",
    "            "
   ]
  },
  {
   "cell_type": "code",
   "execution_count": 12,
   "metadata": {},
   "outputs": [
    {
     "data": {
      "text/plain": [
       "{'bbl1_faceB0_178': {'task-face_run-02_bold': 128},\n",
       " 'localizer_32channel': {},\n",
       " 'MPRAGE_TI1100_ipat2': {'T1w': 116},\n",
       " 'bbl1_cardA0_178': {'task-card_run-01_bold': 124},\n",
       " 'MoCoSeries': {'asl_moco': 128},\n",
       " 'bbl1_faceA0_178': {'task-face_run-01_bold': 123},\n",
       " 'epi_singlerep': {},\n",
       " 'ep2d_se_pcasl_PHC_1200ms': {'asl': 128},\n",
       " 'bbl1_cardB0_178': {'task-card_run-02_bold': 124},\n",
       " 'ep2d_bold_MGH': {'task-rest_bold': 113},\n",
       " 'B0map_onesizefitsall_v2': {'phase2': 119,\n",
       "  'phase1': 119,\n",
       "  'magnitude2': 118,\n",
       "  'magnitude1': 118},\n",
       " '<MPR Collection>': {'T1w': 3},\n",
       " 'DIFFUSION': {'dwi': 3},\n",
       " 'DIFFUSION_LOWB': {'dwi': 3},\n",
       " 'DIFFUSION_TRACEW': {'dwi': 3},\n",
       " 'T1_MEMPRAGE': {},\n",
       " 'T1_MEMPRAGE RMS': {'T1w': 5},\n",
       " 'T1_MEMPRAGE_P': {},\n",
       " 'DIFFUSION_FA': {'dwi': 3},\n",
       " 'DIFFUSION_ADC': {'dwi': 3},\n",
       " 'DIFFUSION_EXP': {'dwi': 3},\n",
       " 'Space_T2': {'T2w': 3},\n",
       " 'MPRAGE_TI1100': {'T1w': 6},\n",
       " 'localizer': {},\n",
       " 'B0map': {'phase1': 5},\n",
       " 'bbl1_resting_bold_cap': {'task-rest_bold': 2}}"
      ]
     },
     "execution_count": 12,
     "metadata": {},
     "output_type": "execute_result"
    }
   ],
   "source": [
    "acquisitions"
   ]
  },
  {
   "cell_type": "code",
   "execution_count": 13,
   "metadata": {},
   "outputs": [],
   "source": [
    "import pandas as pd"
   ]
  },
  {
   "cell_type": "code",
   "execution_count": 14,
   "metadata": {},
   "outputs": [],
   "source": [
    "rows = []\n",
    "\n",
    "for k,v in acquisitions.items():\n",
    "    \n",
    "    if v:\n",
    "        \n",
    "        sequence = k\n",
    "    \n",
    "        for x, y in v.items():\n",
    "            \n",
    "            rows.append(pd.DataFrame({'sequence': [k] ,'BIDS_name': [x], 'count': [y]}))\n",
    "\n",
    "            #print(pd.DataFrame.from_dict(v, orient='index', columns=['BIDS_name', 'count']))\n"
   ]
  },
  {
   "cell_type": "code",
   "execution_count": 15,
   "metadata": {},
   "outputs": [
    {
     "data": {
      "text/html": [
       "<div>\n",
       "<style scoped>\n",
       "    .dataframe tbody tr th:only-of-type {\n",
       "        vertical-align: middle;\n",
       "    }\n",
       "\n",
       "    .dataframe tbody tr th {\n",
       "        vertical-align: top;\n",
       "    }\n",
       "\n",
       "    .dataframe thead th {\n",
       "        text-align: right;\n",
       "    }\n",
       "</style>\n",
       "<table border=\"1\" class=\"dataframe\">\n",
       "  <thead>\n",
       "    <tr style=\"text-align: right;\">\n",
       "      <th></th>\n",
       "      <th>sequence</th>\n",
       "      <th>BIDS_name</th>\n",
       "      <th>count</th>\n",
       "    </tr>\n",
       "  </thead>\n",
       "  <tbody>\n",
       "    <tr>\n",
       "      <th>0</th>\n",
       "      <td>bbl1_faceB0_178</td>\n",
       "      <td>task-face_run-02_bold</td>\n",
       "      <td>128</td>\n",
       "    </tr>\n",
       "    <tr>\n",
       "      <th>1</th>\n",
       "      <td>MPRAGE_TI1100_ipat2</td>\n",
       "      <td>T1w</td>\n",
       "      <td>116</td>\n",
       "    </tr>\n",
       "    <tr>\n",
       "      <th>2</th>\n",
       "      <td>bbl1_cardA0_178</td>\n",
       "      <td>task-card_run-01_bold</td>\n",
       "      <td>124</td>\n",
       "    </tr>\n",
       "    <tr>\n",
       "      <th>3</th>\n",
       "      <td>MoCoSeries</td>\n",
       "      <td>asl_moco</td>\n",
       "      <td>128</td>\n",
       "    </tr>\n",
       "    <tr>\n",
       "      <th>4</th>\n",
       "      <td>bbl1_faceA0_178</td>\n",
       "      <td>task-face_run-01_bold</td>\n",
       "      <td>123</td>\n",
       "    </tr>\n",
       "    <tr>\n",
       "      <th>5</th>\n",
       "      <td>ep2d_se_pcasl_PHC_1200ms</td>\n",
       "      <td>asl</td>\n",
       "      <td>128</td>\n",
       "    </tr>\n",
       "    <tr>\n",
       "      <th>6</th>\n",
       "      <td>bbl1_cardB0_178</td>\n",
       "      <td>task-card_run-02_bold</td>\n",
       "      <td>124</td>\n",
       "    </tr>\n",
       "    <tr>\n",
       "      <th>7</th>\n",
       "      <td>ep2d_bold_MGH</td>\n",
       "      <td>task-rest_bold</td>\n",
       "      <td>113</td>\n",
       "    </tr>\n",
       "    <tr>\n",
       "      <th>8</th>\n",
       "      <td>B0map_onesizefitsall_v2</td>\n",
       "      <td>phase2</td>\n",
       "      <td>119</td>\n",
       "    </tr>\n",
       "    <tr>\n",
       "      <th>9</th>\n",
       "      <td>B0map_onesizefitsall_v2</td>\n",
       "      <td>phase1</td>\n",
       "      <td>119</td>\n",
       "    </tr>\n",
       "    <tr>\n",
       "      <th>10</th>\n",
       "      <td>B0map_onesizefitsall_v2</td>\n",
       "      <td>magnitude2</td>\n",
       "      <td>118</td>\n",
       "    </tr>\n",
       "    <tr>\n",
       "      <th>11</th>\n",
       "      <td>B0map_onesizefitsall_v2</td>\n",
       "      <td>magnitude1</td>\n",
       "      <td>118</td>\n",
       "    </tr>\n",
       "    <tr>\n",
       "      <th>12</th>\n",
       "      <td>&lt;MPR Collection&gt;</td>\n",
       "      <td>T1w</td>\n",
       "      <td>3</td>\n",
       "    </tr>\n",
       "    <tr>\n",
       "      <th>13</th>\n",
       "      <td>DIFFUSION</td>\n",
       "      <td>dwi</td>\n",
       "      <td>3</td>\n",
       "    </tr>\n",
       "    <tr>\n",
       "      <th>14</th>\n",
       "      <td>DIFFUSION_LOWB</td>\n",
       "      <td>dwi</td>\n",
       "      <td>3</td>\n",
       "    </tr>\n",
       "    <tr>\n",
       "      <th>15</th>\n",
       "      <td>DIFFUSION_TRACEW</td>\n",
       "      <td>dwi</td>\n",
       "      <td>3</td>\n",
       "    </tr>\n",
       "    <tr>\n",
       "      <th>16</th>\n",
       "      <td>T1_MEMPRAGE RMS</td>\n",
       "      <td>T1w</td>\n",
       "      <td>5</td>\n",
       "    </tr>\n",
       "    <tr>\n",
       "      <th>17</th>\n",
       "      <td>DIFFUSION_FA</td>\n",
       "      <td>dwi</td>\n",
       "      <td>3</td>\n",
       "    </tr>\n",
       "    <tr>\n",
       "      <th>18</th>\n",
       "      <td>DIFFUSION_ADC</td>\n",
       "      <td>dwi</td>\n",
       "      <td>3</td>\n",
       "    </tr>\n",
       "    <tr>\n",
       "      <th>19</th>\n",
       "      <td>DIFFUSION_EXP</td>\n",
       "      <td>dwi</td>\n",
       "      <td>3</td>\n",
       "    </tr>\n",
       "    <tr>\n",
       "      <th>20</th>\n",
       "      <td>Space_T2</td>\n",
       "      <td>T2w</td>\n",
       "      <td>3</td>\n",
       "    </tr>\n",
       "    <tr>\n",
       "      <th>21</th>\n",
       "      <td>MPRAGE_TI1100</td>\n",
       "      <td>T1w</td>\n",
       "      <td>6</td>\n",
       "    </tr>\n",
       "    <tr>\n",
       "      <th>22</th>\n",
       "      <td>B0map</td>\n",
       "      <td>phase1</td>\n",
       "      <td>5</td>\n",
       "    </tr>\n",
       "    <tr>\n",
       "      <th>23</th>\n",
       "      <td>bbl1_resting_bold_cap</td>\n",
       "      <td>task-rest_bold</td>\n",
       "      <td>2</td>\n",
       "    </tr>\n",
       "  </tbody>\n",
       "</table>\n",
       "</div>"
      ],
      "text/plain": [
       "                    sequence              BIDS_name  count\n",
       "0            bbl1_faceB0_178  task-face_run-02_bold    128\n",
       "1        MPRAGE_TI1100_ipat2                    T1w    116\n",
       "2            bbl1_cardA0_178  task-card_run-01_bold    124\n",
       "3                 MoCoSeries               asl_moco    128\n",
       "4            bbl1_faceA0_178  task-face_run-01_bold    123\n",
       "5   ep2d_se_pcasl_PHC_1200ms                    asl    128\n",
       "6            bbl1_cardB0_178  task-card_run-02_bold    124\n",
       "7              ep2d_bold_MGH         task-rest_bold    113\n",
       "8    B0map_onesizefitsall_v2                 phase2    119\n",
       "9    B0map_onesizefitsall_v2                 phase1    119\n",
       "10   B0map_onesizefitsall_v2             magnitude2    118\n",
       "11   B0map_onesizefitsall_v2             magnitude1    118\n",
       "12          <MPR Collection>                    T1w      3\n",
       "13                 DIFFUSION                    dwi      3\n",
       "14            DIFFUSION_LOWB                    dwi      3\n",
       "15          DIFFUSION_TRACEW                    dwi      3\n",
       "16           T1_MEMPRAGE RMS                    T1w      5\n",
       "17              DIFFUSION_FA                    dwi      3\n",
       "18             DIFFUSION_ADC                    dwi      3\n",
       "19             DIFFUSION_EXP                    dwi      3\n",
       "20                  Space_T2                    T2w      3\n",
       "21             MPRAGE_TI1100                    T1w      6\n",
       "22                     B0map                 phase1      5\n",
       "23     bbl1_resting_bold_cap         task-rest_bold      2"
      ]
     },
     "execution_count": 15,
     "metadata": {},
     "output_type": "execute_result"
    }
   ],
   "source": [
    "day2_data = pd.concat(rows).reset_index(drop=True)\n",
    "day2_data"
   ]
  },
  {
   "cell_type": "code",
   "execution_count": 16,
   "metadata": {},
   "outputs": [
    {
     "data": {
      "text/plain": [
       "count\n",
       "2       4.166667\n",
       "3      33.333333\n",
       "5       8.333333\n",
       "6       4.166667\n",
       "113     4.166667\n",
       "116     4.166667\n",
       "118     8.333333\n",
       "119     8.333333\n",
       "123     4.166667\n",
       "124     8.333333\n",
       "128    12.500000\n",
       "dtype: float64"
      ]
     },
     "execution_count": 16,
     "metadata": {},
     "output_type": "execute_result"
    }
   ],
   "source": [
    "day2_data.groupby('count').size() / day2_data['count'].count()*100"
   ]
  },
  {
   "cell_type": "markdown",
   "metadata": {},
   "source": [
    "Certainly for `day2`, less than 5% of the data collected was resting state. Let's check `fndm`:"
   ]
  },
  {
   "cell_type": "code",
   "execution_count": 17,
   "metadata": {},
   "outputs": [],
   "source": [
    "fndm = [x for x in sessions if 'fndm' in x.label.lower()]"
   ]
  },
  {
   "cell_type": "code",
   "execution_count": 18,
   "metadata": {},
   "outputs": [],
   "source": [
    "def process_acq(acq):\n",
    "    \n",
    "    files = acq.files\n",
    "    \n",
    "    names = {}\n",
    "    \n",
    "    for f in files:\n",
    "        \n",
    "        if f.type != 'nifti':\n",
    "            \n",
    "            continue\n",
    "\n",
    "        bids_filename = get_nested(f, 'info', 'BIDS', 'Filename')\n",
    "\n",
    "        if bids_filename is None:\n",
    "            continue\n",
    "        \n",
    "        fndm_start = bids_filename.find('fndm')\n",
    "        end_ses = bids_filename[fndm_start:].find(\"_\")\n",
    "        bids_filename = bids_filename[fndm_start+end_ses+1:].replace(\".nii.gz\", \"\")\n",
    "        \n",
    "        if bids_filename not in names.keys():\n",
    "            names[bids_filename] = 1\n",
    "        else:\n",
    "            names[bids_filename] += 1\n",
    "        \n",
    "    return names"
   ]
  },
  {
   "cell_type": "code",
   "execution_count": 19,
   "metadata": {},
   "outputs": [],
   "source": [
    "acquisitions = {}\n",
    "\n",
    "for d in fndm:\n",
    "    acqs = d.acquisitions()\n",
    "\n",
    "    for a in acqs:\n",
    "                \n",
    "        \n",
    "        if a.label not in acquisitions.keys():\n",
    "            \n",
    "            names = process_acq(a)\n",
    "            \n",
    "            acquisitions[a.label] = names\n",
    "            \n",
    "        else:\n",
    "            \n",
    "            names = process_acq(a)\n",
    "\n",
    "            for k, n in names.items():\n",
    "                \n",
    "                if k not in acquisitions[a.label].keys():\n",
    "                    \n",
    "                    acquisitions[a.label][k] = n \n",
    "                    \n",
    "                else:\n",
    "                    \n",
    "                    acquisitions[a.label][k] += n \n",
    "            "
   ]
  },
  {
   "cell_type": "code",
   "execution_count": 20,
   "metadata": {},
   "outputs": [],
   "source": [
    "rows = []\n",
    "\n",
    "for k,v in acquisitions.items():\n",
    "    \n",
    "    if v:\n",
    "        \n",
    "        sequence = k\n",
    "    \n",
    "        for x, y in v.items():\n",
    "            \n",
    "            rows.append(pd.DataFrame({'sequence': [k] ,'BIDS_name': [x], 'count': [y]}))"
   ]
  },
  {
   "cell_type": "code",
   "execution_count": 21,
   "metadata": {},
   "outputs": [
    {
     "data": {
      "text/html": [
       "<div>\n",
       "<style scoped>\n",
       "    .dataframe tbody tr th:only-of-type {\n",
       "        vertical-align: middle;\n",
       "    }\n",
       "\n",
       "    .dataframe tbody tr th {\n",
       "        vertical-align: top;\n",
       "    }\n",
       "\n",
       "    .dataframe thead th {\n",
       "        text-align: right;\n",
       "    }\n",
       "</style>\n",
       "<table border=\"1\" class=\"dataframe\">\n",
       "  <thead>\n",
       "    <tr style=\"text-align: right;\">\n",
       "      <th></th>\n",
       "      <th>sequence</th>\n",
       "      <th>BIDS_name</th>\n",
       "      <th>count</th>\n",
       "    </tr>\n",
       "  </thead>\n",
       "  <tbody>\n",
       "    <tr>\n",
       "      <th>0</th>\n",
       "      <td>bbl1_faceA0_178</td>\n",
       "      <td>task-face_run-01_bold</td>\n",
       "      <td>56</td>\n",
       "    </tr>\n",
       "    <tr>\n",
       "      <th>1</th>\n",
       "      <td>bbl1_cardB0_178</td>\n",
       "      <td>task-card_run-02_bold</td>\n",
       "      <td>56</td>\n",
       "    </tr>\n",
       "    <tr>\n",
       "      <th>2</th>\n",
       "      <td>MPRAGE_TI1100_ipat2</td>\n",
       "      <td>T1w</td>\n",
       "      <td>159</td>\n",
       "    </tr>\n",
       "    <tr>\n",
       "      <th>3</th>\n",
       "      <td>bbl1_faceB0_178</td>\n",
       "      <td>task-face_run-02_bold</td>\n",
       "      <td>57</td>\n",
       "    </tr>\n",
       "    <tr>\n",
       "      <th>4</th>\n",
       "      <td>ep2d_bold_MGH</td>\n",
       "      <td>task-rest_bold</td>\n",
       "      <td>56</td>\n",
       "    </tr>\n",
       "    <tr>\n",
       "      <th>5</th>\n",
       "      <td>B0map_onesizefitsall_v2</td>\n",
       "      <td>phase2</td>\n",
       "      <td>55</td>\n",
       "    </tr>\n",
       "    <tr>\n",
       "      <th>6</th>\n",
       "      <td>B0map_onesizefitsall_v2</td>\n",
       "      <td>phase1</td>\n",
       "      <td>55</td>\n",
       "    </tr>\n",
       "    <tr>\n",
       "      <th>7</th>\n",
       "      <td>B0map_onesizefitsall_v2</td>\n",
       "      <td>magnitude2</td>\n",
       "      <td>55</td>\n",
       "    </tr>\n",
       "    <tr>\n",
       "      <th>8</th>\n",
       "      <td>B0map_onesizefitsall_v2</td>\n",
       "      <td>magnitude1</td>\n",
       "      <td>55</td>\n",
       "    </tr>\n",
       "    <tr>\n",
       "      <th>9</th>\n",
       "      <td>bbl1_cardA0_178</td>\n",
       "      <td>task-card_run-01_bold</td>\n",
       "      <td>57</td>\n",
       "    </tr>\n",
       "    <tr>\n",
       "      <th>10</th>\n",
       "      <td>ep2d_se_pcasl_PHC_1200ms</td>\n",
       "      <td>asl</td>\n",
       "      <td>56</td>\n",
       "    </tr>\n",
       "    <tr>\n",
       "      <th>11</th>\n",
       "      <td>MoCoSeries</td>\n",
       "      <td>asl_moco</td>\n",
       "      <td>56</td>\n",
       "    </tr>\n",
       "    <tr>\n",
       "      <th>12</th>\n",
       "      <td>ep2d_restbold_168</td>\n",
       "      <td>task-rest_bold</td>\n",
       "      <td>101</td>\n",
       "    </tr>\n",
       "    <tr>\n",
       "      <th>13</th>\n",
       "      <td>B0map_onesizefitsall_v3</td>\n",
       "      <td>magnitude2</td>\n",
       "      <td>104</td>\n",
       "    </tr>\n",
       "    <tr>\n",
       "      <th>14</th>\n",
       "      <td>B0map_onesizefitsall_v3</td>\n",
       "      <td>magnitude1</td>\n",
       "      <td>104</td>\n",
       "    </tr>\n",
       "    <tr>\n",
       "      <th>15</th>\n",
       "      <td>B0map_onesizefitsall_v3</td>\n",
       "      <td>phase2</td>\n",
       "      <td>105</td>\n",
       "    </tr>\n",
       "    <tr>\n",
       "      <th>16</th>\n",
       "      <td>B0map_onesizefitsall_v3</td>\n",
       "      <td>phase1</td>\n",
       "      <td>105</td>\n",
       "    </tr>\n",
       "    <tr>\n",
       "      <th>17</th>\n",
       "      <td>ep2d_itc3_168</td>\n",
       "      <td>task-itc_run-03_bold</td>\n",
       "      <td>101</td>\n",
       "    </tr>\n",
       "    <tr>\n",
       "      <th>18</th>\n",
       "      <td>ep2d_itc2_168</td>\n",
       "      <td>task-itc_run-02_bold</td>\n",
       "      <td>101</td>\n",
       "    </tr>\n",
       "    <tr>\n",
       "      <th>19</th>\n",
       "      <td>ep2d_itc1_168</td>\n",
       "      <td>task-itc_run-01_bold</td>\n",
       "      <td>101</td>\n",
       "    </tr>\n",
       "    <tr>\n",
       "      <th>20</th>\n",
       "      <td>ep2d_single</td>\n",
       "      <td>task-itc_sbref</td>\n",
       "      <td>101</td>\n",
       "    </tr>\n",
       "    <tr>\n",
       "      <th>21</th>\n",
       "      <td>ep2d_itc4_168</td>\n",
       "      <td>task-itc_run-04_bold</td>\n",
       "      <td>85</td>\n",
       "    </tr>\n",
       "    <tr>\n",
       "      <th>22</th>\n",
       "      <td>&lt;MPR Collection&gt;</td>\n",
       "      <td>T1w</td>\n",
       "      <td>1</td>\n",
       "    </tr>\n",
       "    <tr>\n",
       "      <th>23</th>\n",
       "      <td>bbl1_restbold1_124</td>\n",
       "      <td>task-rest_bold</td>\n",
       "      <td>1</td>\n",
       "    </tr>\n",
       "  </tbody>\n",
       "</table>\n",
       "</div>"
      ],
      "text/plain": [
       "                    sequence              BIDS_name  count\n",
       "0            bbl1_faceA0_178  task-face_run-01_bold     56\n",
       "1            bbl1_cardB0_178  task-card_run-02_bold     56\n",
       "2        MPRAGE_TI1100_ipat2                    T1w    159\n",
       "3            bbl1_faceB0_178  task-face_run-02_bold     57\n",
       "4              ep2d_bold_MGH         task-rest_bold     56\n",
       "5    B0map_onesizefitsall_v2                 phase2     55\n",
       "6    B0map_onesizefitsall_v2                 phase1     55\n",
       "7    B0map_onesizefitsall_v2             magnitude2     55\n",
       "8    B0map_onesizefitsall_v2             magnitude1     55\n",
       "9            bbl1_cardA0_178  task-card_run-01_bold     57\n",
       "10  ep2d_se_pcasl_PHC_1200ms                    asl     56\n",
       "11                MoCoSeries               asl_moco     56\n",
       "12         ep2d_restbold_168         task-rest_bold    101\n",
       "13   B0map_onesizefitsall_v3             magnitude2    104\n",
       "14   B0map_onesizefitsall_v3             magnitude1    104\n",
       "15   B0map_onesizefitsall_v3                 phase2    105\n",
       "16   B0map_onesizefitsall_v3                 phase1    105\n",
       "17             ep2d_itc3_168   task-itc_run-03_bold    101\n",
       "18             ep2d_itc2_168   task-itc_run-02_bold    101\n",
       "19             ep2d_itc1_168   task-itc_run-01_bold    101\n",
       "20               ep2d_single         task-itc_sbref    101\n",
       "21             ep2d_itc4_168   task-itc_run-04_bold     85\n",
       "22          <MPR Collection>                    T1w      1\n",
       "23        bbl1_restbold1_124         task-rest_bold      1"
      ]
     },
     "execution_count": 21,
     "metadata": {},
     "output_type": "execute_result"
    }
   ],
   "source": [
    "fndm_data = pd.concat(rows).reset_index(drop=True)\n",
    "fndm_data"
   ]
  },
  {
   "cell_type": "code",
   "execution_count": 22,
   "metadata": {},
   "outputs": [
    {
     "data": {
      "text/plain": [
       "task-rest_bold           12.500000\n",
       "T1w                       8.333333\n",
       "magnitude1                8.333333\n",
       "phase1                    8.333333\n",
       "magnitude2                8.333333\n",
       "phase2                    8.333333\n",
       "task-itc_run-02_bold      4.166667\n",
       "task-itc_run-04_bold      4.166667\n",
       "task-itc_sbref            4.166667\n",
       "task-face_run-01_bold     4.166667\n",
       "task-card_run-02_bold     4.166667\n",
       "asl                       4.166667\n",
       "task-itc_run-03_bold      4.166667\n",
       "asl_moco                  4.166667\n",
       "task-card_run-01_bold     4.166667\n",
       "task-face_run-02_bold     4.166667\n",
       "task-itc_run-01_bold      4.166667\n",
       "Name: BIDS_name, dtype: float64"
      ]
     },
     "execution_count": 22,
     "metadata": {},
     "output_type": "execute_result"
    }
   ],
   "source": [
    "fndm_data.BIDS_name.value_counts() / len(fndm_data.BIDS_name) * 100"
   ]
  },
  {
   "cell_type": "markdown",
   "metadata": {},
   "source": [
    "Indeed only 5% of the data is resting state bold here.\n",
    "\n",
    "> Also for \"NEFF2\" it says there are 4 effort runs, this is not correct... for NEFF (1) there are indeed 4 effort runs that correspond exactly (in timing/task structure but with effort rather than delay) to ITC1-4 in FNDM2, but for NEFF2 there are 2 main effort runs (with a completely different structure from NEFF/ITC) and then a pilot 3rd effort run that was playing around with various things (temporal resolution, spatial resolution, gain vs. loss framing)."
   ]
  },
  {
   "cell_type": "markdown",
   "metadata": {},
   "source": [
    "Let's see the different NEFF studies:"
   ]
  },
  {
   "cell_type": "code",
   "execution_count": 23,
   "metadata": {},
   "outputs": [
    {
     "data": {
      "text/plain": [
       "{'day2',\n",
       " 'day2x2',\n",
       " 'fndm1',\n",
       " 'fndm2',\n",
       " 'neff',\n",
       " 'neff2',\n",
       " 'neff2x2',\n",
       " 'neffx2',\n",
       " 'nodra'}"
      ]
     },
     "execution_count": 23,
     "metadata": {},
     "output_type": "execute_result"
    }
   ],
   "source": [
    "set([x.label for x in sessions])"
   ]
  },
  {
   "cell_type": "code",
   "execution_count": null,
   "metadata": {},
   "outputs": [],
   "source": []
  }
 ],
 "metadata": {
  "kernelspec": {
   "display_name": "Python 3",
   "language": "python",
   "name": "python3"
  },
  "language_info": {
   "codemirror_mode": {
    "name": "ipython",
    "version": 3
   },
   "file_extension": ".py",
   "mimetype": "text/x-python",
   "name": "python",
   "nbconvert_exporter": "python",
   "pygments_lexer": "ipython3",
   "version": "3.8.10"
  }
 },
 "nbformat": 4,
 "nbformat_minor": 4
}
